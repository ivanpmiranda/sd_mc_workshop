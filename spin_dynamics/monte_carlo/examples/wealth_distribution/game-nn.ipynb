{
 "cells": [
  {
   "cell_type": "code",
   "execution_count": 1,
   "id": "0ebdc27c",
   "metadata": {},
   "outputs": [
    {
     "data": {
      "application/vnd.jupyter.widget-view+json": {
       "model_id": "03e559c9afef4bfbb485141110e7c728",
       "version_major": 2,
       "version_minor": 0
      },
      "text/plain": [
       "Button(description='Start Simulation', style=ButtonStyle())"
      ]
     },
     "metadata": {},
     "output_type": "display_data"
    },
    {
     "data": {
      "application/vnd.jupyter.widget-view+json": {
       "model_id": "1af86f890ef54f5fa09a03a5691ddbb6",
       "version_major": 2,
       "version_minor": 0
      },
      "text/plain": [
       "Output()"
      ]
     },
     "metadata": {},
     "output_type": "display_data"
    }
   ],
   "source": [
    "import numpy as np\n",
    "import matplotlib.pyplot as plt\n",
    "import ipywidgets as widgets\n",
    "from IPython.display import display, clear_output\n",
    "\n",
    "# Simulation function with neighborhood constraint\n",
    "def wealth_distribution_simulation(population_size, initial_wealth, num_iterations, wealth, neighborhood_size):\n",
    "    for _ in range(num_iterations):\n",
    "        person1 = np.random.choice(population_size)\n",
    "        neighborhood_start = (person1 // neighborhood_size) * neighborhood_size\n",
    "        neighborhood_end = neighborhood_start + neighborhood_size - 1\n",
    "        \n",
    "        person2 = np.random.choice(range(neighborhood_start, neighborhood_end + 1))\n",
    "        \n",
    "        while person1 == person2:\n",
    "            person2 = np.random.choice(range(neighborhood_start, neighborhood_end + 1))\n",
    "        \n",
    "        exchange_amount = 150\n",
    "        \n",
    "        coin_flip = np.random.randint(2)\n",
    "        if coin_flip == 0:\n",
    "            if wealth[person2] == 0:\n",
    "                continue\n",
    "            actual_exchange = min(exchange_amount, wealth[person2])\n",
    "            wealth[person1] += actual_exchange\n",
    "            wealth[person2] -= actual_exchange\n",
    "        else:\n",
    "            if wealth[person1] == 0:\n",
    "                continue\n",
    "            actual_exchange = min(exchange_amount, wealth[person1])\n",
    "            wealth[person1] -= actual_exchange\n",
    "            wealth[person2] += actual_exchange\n",
    "    return wealth\n",
    "\n",
    "# Parameters\n",
    "population_size = 5000\n",
    "initial_wealth = 1000\n",
    "num_iterations_per_update = 500\n",
    "total_updates = 240\n",
    "neighborhood_size = 100\n",
    "sample_neighborhoods = np.random.choice(population_size // neighborhood_size, 9, replace=False)\n",
    "\n",
    "wealth = np.full(population_size, initial_wealth)\n",
    "\n",
    "output = widgets.Output()\n",
    "\n",
    "# Button to start the simulation\n",
    "button = widgets.Button(description=\"Start Simulation\")\n",
    "display(button, output)\n",
    "\n",
    "def on_button_click(b):\n",
    "    global wealth\n",
    "    for i in range(total_updates):\n",
    "        wealth = wealth_distribution_simulation(population_size, initial_wealth, num_iterations_per_update, wealth, neighborhood_size)\n",
    "        \n",
    "        plt.figure(figsize=(12, 8))\n",
    "        \n",
    "        # Overall distribution\n",
    "        plt.subplot(4, 3, (1, 3))\n",
    "        plt.hist(wealth, bins=range(0, 8*initial_wealth + 150, 150), align='left', density=False)\n",
    "        plt.title('Wealth Distribution after {} Iterations'.format((i+1)*num_iterations_per_update))\n",
    "        plt.grid(True, which='both', linestyle='--', linewidth=0.5)\n",
    "        \n",
    "        # Distributions for random neighborhoods\n",
    "        for j, neighborhood in enumerate(sample_neighborhoods):\n",
    "            plt.subplot(4, 3, j+4)\n",
    "            start, end = neighborhood*neighborhood_size, (neighborhood+1)*neighborhood_size\n",
    "            plt.hist(wealth[start:end], bins=range(0, 8*initial_wealth + 150, 150), align='left', density=False)\n",
    "            plt.title(f'Neighborhood {neighborhood}')\n",
    "            plt.grid(True, which='both', linestyle='--', linewidth=0.5)\n",
    "        \n",
    "        plt.tight_layout()\n",
    "        \n",
    "        with output:\n",
    "            clear_output(wait=True)\n",
    "            plt.show()\n",
    "            plt.close()\n",
    "\n",
    "button.on_click(on_button_click)\n"
   ]
  },
  {
   "cell_type": "code",
   "execution_count": null,
   "id": "e5b42cc2",
   "metadata": {},
   "outputs": [],
   "source": []
  }
 ],
 "metadata": {
  "kernelspec": {
   "display_name": "Python 3 (ipykernel)",
   "language": "python",
   "name": "python3"
  },
  "language_info": {
   "codemirror_mode": {
    "name": "ipython",
    "version": 3
   },
   "file_extension": ".py",
   "mimetype": "text/x-python",
   "name": "python",
   "nbconvert_exporter": "python",
   "pygments_lexer": "ipython3",
   "version": "3.9.7"
  }
 },
 "nbformat": 4,
 "nbformat_minor": 5
}
